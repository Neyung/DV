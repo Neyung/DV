{
  "cells": [
    {
      "cell_type": "markdown",
      "source": [
        "# **Cài đặt thư viện và đọc file dữ liệu**"
      ],
      "metadata": {
        "id": "UoO2DXSowCBH"
      }
    },
    {
      "cell_type": "code",
      "execution_count": null,
      "metadata": {
        "id": "dT-MdlIwpkVC"
      },
      "outputs": [],
      "source": [
        "#Import các thư viện\n",
        "import pandas as pd\n",
        "import seaborn as sns\n",
        "import matplotlib.pyplot         as plt\n",
        "\n",
        "import statsmodels.api           as sm\n",
        "import scipy.stats               as stats\n",
        "from statsmodels.formula.api     import ols\n",
        "from statsmodels.stats.weightstats import ztest"
      ]
    },
    {
      "cell_type": "code",
      "execution_count": null,
      "metadata": {
        "colab": {
          "base_uri": "https://localhost:8080/",
          "height": 243
        },
        "id": "PwoNPeYBFiNC",
        "outputId": "f0a6c13a-d85e-4713-880a-b59467870000"
      },
      "outputs": [
        {
          "output_type": "execute_result",
          "data": {
            "text/plain": [
              "   CusID  age  is_male  married  num_of_children     bmi  smoker  \\\n",
              "0  CS619   64        0        1                2  47.600       0   \n",
              "1  CS146   64        1        0                0  17.320       1   \n",
              "2  CS224   64        1        0                0  16.400       1   \n",
              "3  CS949   64        1        1                0  36.955       0   \n",
              "4  CS265   64        0        1                1  38.665       0   \n",
              "\n",
              "           state     region  employ most_recent_insur_pur  insur_renewals  \\\n",
              "0     California       West       1             4/21/2022              51   \n",
              "1  West Virginia      South       0            10/28/2007              12   \n",
              "2        Florida  Southeast       0              4/4/2009              10   \n",
              "3       New York  Northeast       1             1/22/2018              51   \n",
              "4       New York  Northeast       1            11/10/2019              44   \n",
              "\n",
              "   charges  invalid_date  \n",
              "0   328644         False  \n",
              "1    78030         False  \n",
              "2    68234         False  \n",
              "3   436356         False  \n",
              "4   376464         False  "
            ],
            "text/html": [
              "\n",
              "  <div id=\"df-dc84ac8d-a465-4cdb-bc7b-209776b87492\" class=\"colab-df-container\">\n",
              "    <div>\n",
              "<style scoped>\n",
              "    .dataframe tbody tr th:only-of-type {\n",
              "        vertical-align: middle;\n",
              "    }\n",
              "\n",
              "    .dataframe tbody tr th {\n",
              "        vertical-align: top;\n",
              "    }\n",
              "\n",
              "    .dataframe thead th {\n",
              "        text-align: right;\n",
              "    }\n",
              "</style>\n",
              "<table border=\"1\" class=\"dataframe\">\n",
              "  <thead>\n",
              "    <tr style=\"text-align: right;\">\n",
              "      <th></th>\n",
              "      <th>CusID</th>\n",
              "      <th>age</th>\n",
              "      <th>is_male</th>\n",
              "      <th>married</th>\n",
              "      <th>num_of_children</th>\n",
              "      <th>bmi</th>\n",
              "      <th>smoker</th>\n",
              "      <th>state</th>\n",
              "      <th>region</th>\n",
              "      <th>employ</th>\n",
              "      <th>most_recent_insur_pur</th>\n",
              "      <th>insur_renewals</th>\n",
              "      <th>charges</th>\n",
              "      <th>invalid_date</th>\n",
              "    </tr>\n",
              "  </thead>\n",
              "  <tbody>\n",
              "    <tr>\n",
              "      <th>0</th>\n",
              "      <td>CS619</td>\n",
              "      <td>64</td>\n",
              "      <td>0</td>\n",
              "      <td>1</td>\n",
              "      <td>2</td>\n",
              "      <td>47.600</td>\n",
              "      <td>0</td>\n",
              "      <td>California</td>\n",
              "      <td>West</td>\n",
              "      <td>1</td>\n",
              "      <td>4/21/2022</td>\n",
              "      <td>51</td>\n",
              "      <td>328644</td>\n",
              "      <td>False</td>\n",
              "    </tr>\n",
              "    <tr>\n",
              "      <th>1</th>\n",
              "      <td>CS146</td>\n",
              "      <td>64</td>\n",
              "      <td>1</td>\n",
              "      <td>0</td>\n",
              "      <td>0</td>\n",
              "      <td>17.320</td>\n",
              "      <td>1</td>\n",
              "      <td>West Virginia</td>\n",
              "      <td>South</td>\n",
              "      <td>0</td>\n",
              "      <td>10/28/2007</td>\n",
              "      <td>12</td>\n",
              "      <td>78030</td>\n",
              "      <td>False</td>\n",
              "    </tr>\n",
              "    <tr>\n",
              "      <th>2</th>\n",
              "      <td>CS224</td>\n",
              "      <td>64</td>\n",
              "      <td>1</td>\n",
              "      <td>0</td>\n",
              "      <td>0</td>\n",
              "      <td>16.400</td>\n",
              "      <td>1</td>\n",
              "      <td>Florida</td>\n",
              "      <td>Southeast</td>\n",
              "      <td>0</td>\n",
              "      <td>4/4/2009</td>\n",
              "      <td>10</td>\n",
              "      <td>68234</td>\n",
              "      <td>False</td>\n",
              "    </tr>\n",
              "    <tr>\n",
              "      <th>3</th>\n",
              "      <td>CS949</td>\n",
              "      <td>64</td>\n",
              "      <td>1</td>\n",
              "      <td>1</td>\n",
              "      <td>0</td>\n",
              "      <td>36.955</td>\n",
              "      <td>0</td>\n",
              "      <td>New York</td>\n",
              "      <td>Northeast</td>\n",
              "      <td>1</td>\n",
              "      <td>1/22/2018</td>\n",
              "      <td>51</td>\n",
              "      <td>436356</td>\n",
              "      <td>False</td>\n",
              "    </tr>\n",
              "    <tr>\n",
              "      <th>4</th>\n",
              "      <td>CS265</td>\n",
              "      <td>64</td>\n",
              "      <td>0</td>\n",
              "      <td>1</td>\n",
              "      <td>1</td>\n",
              "      <td>38.665</td>\n",
              "      <td>0</td>\n",
              "      <td>New York</td>\n",
              "      <td>Northeast</td>\n",
              "      <td>1</td>\n",
              "      <td>11/10/2019</td>\n",
              "      <td>44</td>\n",
              "      <td>376464</td>\n",
              "      <td>False</td>\n",
              "    </tr>\n",
              "  </tbody>\n",
              "</table>\n",
              "</div>\n",
              "    <div class=\"colab-df-buttons\">\n",
              "\n",
              "  <div class=\"colab-df-container\">\n",
              "    <button class=\"colab-df-convert\" onclick=\"convertToInteractive('df-dc84ac8d-a465-4cdb-bc7b-209776b87492')\"\n",
              "            title=\"Convert this dataframe to an interactive table.\"\n",
              "            style=\"display:none;\">\n",
              "\n",
              "  <svg xmlns=\"http://www.w3.org/2000/svg\" height=\"24px\" viewBox=\"0 -960 960 960\">\n",
              "    <path d=\"M120-120v-720h720v720H120Zm60-500h600v-160H180v160Zm220 220h160v-160H400v160Zm0 220h160v-160H400v160ZM180-400h160v-160H180v160Zm440 0h160v-160H620v160ZM180-180h160v-160H180v160Zm440 0h160v-160H620v160Z\"/>\n",
              "  </svg>\n",
              "    </button>\n",
              "\n",
              "  <style>\n",
              "    .colab-df-container {\n",
              "      display:flex;\n",
              "      gap: 12px;\n",
              "    }\n",
              "\n",
              "    .colab-df-convert {\n",
              "      background-color: #E8F0FE;\n",
              "      border: none;\n",
              "      border-radius: 50%;\n",
              "      cursor: pointer;\n",
              "      display: none;\n",
              "      fill: #1967D2;\n",
              "      height: 32px;\n",
              "      padding: 0 0 0 0;\n",
              "      width: 32px;\n",
              "    }\n",
              "\n",
              "    .colab-df-convert:hover {\n",
              "      background-color: #E2EBFA;\n",
              "      box-shadow: 0px 1px 2px rgba(60, 64, 67, 0.3), 0px 1px 3px 1px rgba(60, 64, 67, 0.15);\n",
              "      fill: #174EA6;\n",
              "    }\n",
              "\n",
              "    .colab-df-buttons div {\n",
              "      margin-bottom: 4px;\n",
              "    }\n",
              "\n",
              "    [theme=dark] .colab-df-convert {\n",
              "      background-color: #3B4455;\n",
              "      fill: #D2E3FC;\n",
              "    }\n",
              "\n",
              "    [theme=dark] .colab-df-convert:hover {\n",
              "      background-color: #434B5C;\n",
              "      box-shadow: 0px 1px 3px 1px rgba(0, 0, 0, 0.15);\n",
              "      filter: drop-shadow(0px 1px 2px rgba(0, 0, 0, 0.3));\n",
              "      fill: #FFFFFF;\n",
              "    }\n",
              "  </style>\n",
              "\n",
              "    <script>\n",
              "      const buttonEl =\n",
              "        document.querySelector('#df-dc84ac8d-a465-4cdb-bc7b-209776b87492 button.colab-df-convert');\n",
              "      buttonEl.style.display =\n",
              "        google.colab.kernel.accessAllowed ? 'block' : 'none';\n",
              "\n",
              "      async function convertToInteractive(key) {\n",
              "        const element = document.querySelector('#df-dc84ac8d-a465-4cdb-bc7b-209776b87492');\n",
              "        const dataTable =\n",
              "          await google.colab.kernel.invokeFunction('convertToInteractive',\n",
              "                                                    [key], {});\n",
              "        if (!dataTable) return;\n",
              "\n",
              "        const docLinkHtml = 'Like what you see? Visit the ' +\n",
              "          '<a target=\"_blank\" href=https://colab.research.google.com/notebooks/data_table.ipynb>data table notebook</a>'\n",
              "          + ' to learn more about interactive tables.';\n",
              "        element.innerHTML = '';\n",
              "        dataTable['output_type'] = 'display_data';\n",
              "        await google.colab.output.renderOutput(dataTable, element);\n",
              "        const docLink = document.createElement('div');\n",
              "        docLink.innerHTML = docLinkHtml;\n",
              "        element.appendChild(docLink);\n",
              "      }\n",
              "    </script>\n",
              "  </div>\n",
              "\n",
              "\n",
              "<div id=\"df-dc7ecfcf-1cf2-4988-a6f1-f24b44bad7b1\">\n",
              "  <button class=\"colab-df-quickchart\" onclick=\"quickchart('df-dc7ecfcf-1cf2-4988-a6f1-f24b44bad7b1')\"\n",
              "            title=\"Suggest charts\"\n",
              "            style=\"display:none;\">\n",
              "\n",
              "<svg xmlns=\"http://www.w3.org/2000/svg\" height=\"24px\"viewBox=\"0 0 24 24\"\n",
              "     width=\"24px\">\n",
              "    <g>\n",
              "        <path d=\"M19 3H5c-1.1 0-2 .9-2 2v14c0 1.1.9 2 2 2h14c1.1 0 2-.9 2-2V5c0-1.1-.9-2-2-2zM9 17H7v-7h2v7zm4 0h-2V7h2v10zm4 0h-2v-4h2v4z\"/>\n",
              "    </g>\n",
              "</svg>\n",
              "  </button>\n",
              "\n",
              "<style>\n",
              "  .colab-df-quickchart {\n",
              "      --bg-color: #E8F0FE;\n",
              "      --fill-color: #1967D2;\n",
              "      --hover-bg-color: #E2EBFA;\n",
              "      --hover-fill-color: #174EA6;\n",
              "      --disabled-fill-color: #AAA;\n",
              "      --disabled-bg-color: #DDD;\n",
              "  }\n",
              "\n",
              "  [theme=dark] .colab-df-quickchart {\n",
              "      --bg-color: #3B4455;\n",
              "      --fill-color: #D2E3FC;\n",
              "      --hover-bg-color: #434B5C;\n",
              "      --hover-fill-color: #FFFFFF;\n",
              "      --disabled-bg-color: #3B4455;\n",
              "      --disabled-fill-color: #666;\n",
              "  }\n",
              "\n",
              "  .colab-df-quickchart {\n",
              "    background-color: var(--bg-color);\n",
              "    border: none;\n",
              "    border-radius: 50%;\n",
              "    cursor: pointer;\n",
              "    display: none;\n",
              "    fill: var(--fill-color);\n",
              "    height: 32px;\n",
              "    padding: 0;\n",
              "    width: 32px;\n",
              "  }\n",
              "\n",
              "  .colab-df-quickchart:hover {\n",
              "    background-color: var(--hover-bg-color);\n",
              "    box-shadow: 0 1px 2px rgba(60, 64, 67, 0.3), 0 1px 3px 1px rgba(60, 64, 67, 0.15);\n",
              "    fill: var(--button-hover-fill-color);\n",
              "  }\n",
              "\n",
              "  .colab-df-quickchart-complete:disabled,\n",
              "  .colab-df-quickchart-complete:disabled:hover {\n",
              "    background-color: var(--disabled-bg-color);\n",
              "    fill: var(--disabled-fill-color);\n",
              "    box-shadow: none;\n",
              "  }\n",
              "\n",
              "  .colab-df-spinner {\n",
              "    border: 2px solid var(--fill-color);\n",
              "    border-color: transparent;\n",
              "    border-bottom-color: var(--fill-color);\n",
              "    animation:\n",
              "      spin 1s steps(1) infinite;\n",
              "  }\n",
              "\n",
              "  @keyframes spin {\n",
              "    0% {\n",
              "      border-color: transparent;\n",
              "      border-bottom-color: var(--fill-color);\n",
              "      border-left-color: var(--fill-color);\n",
              "    }\n",
              "    20% {\n",
              "      border-color: transparent;\n",
              "      border-left-color: var(--fill-color);\n",
              "      border-top-color: var(--fill-color);\n",
              "    }\n",
              "    30% {\n",
              "      border-color: transparent;\n",
              "      border-left-color: var(--fill-color);\n",
              "      border-top-color: var(--fill-color);\n",
              "      border-right-color: var(--fill-color);\n",
              "    }\n",
              "    40% {\n",
              "      border-color: transparent;\n",
              "      border-right-color: var(--fill-color);\n",
              "      border-top-color: var(--fill-color);\n",
              "    }\n",
              "    60% {\n",
              "      border-color: transparent;\n",
              "      border-right-color: var(--fill-color);\n",
              "    }\n",
              "    80% {\n",
              "      border-color: transparent;\n",
              "      border-right-color: var(--fill-color);\n",
              "      border-bottom-color: var(--fill-color);\n",
              "    }\n",
              "    90% {\n",
              "      border-color: transparent;\n",
              "      border-bottom-color: var(--fill-color);\n",
              "    }\n",
              "  }\n",
              "</style>\n",
              "\n",
              "  <script>\n",
              "    async function quickchart(key) {\n",
              "      const quickchartButtonEl =\n",
              "        document.querySelector('#' + key + ' button');\n",
              "      quickchartButtonEl.disabled = true;  // To prevent multiple clicks.\n",
              "      quickchartButtonEl.classList.add('colab-df-spinner');\n",
              "      try {\n",
              "        const charts = await google.colab.kernel.invokeFunction(\n",
              "            'suggestCharts', [key], {});\n",
              "      } catch (error) {\n",
              "        console.error('Error during call to suggestCharts:', error);\n",
              "      }\n",
              "      quickchartButtonEl.classList.remove('colab-df-spinner');\n",
              "      quickchartButtonEl.classList.add('colab-df-quickchart-complete');\n",
              "    }\n",
              "    (() => {\n",
              "      let quickchartButtonEl =\n",
              "        document.querySelector('#df-dc7ecfcf-1cf2-4988-a6f1-f24b44bad7b1 button');\n",
              "      quickchartButtonEl.style.display =\n",
              "        google.colab.kernel.accessAllowed ? 'block' : 'none';\n",
              "    })();\n",
              "  </script>\n",
              "</div>\n",
              "    </div>\n",
              "  </div>\n"
            ]
          },
          "metadata": {},
          "execution_count": 3
        }
      ],
      "source": [
        "#Đọc file dữ liệu\n",
        "df = pd.read_csv('/content/us_health_insurance_cleaned.csv')\n",
        "df.head()"
      ]
    },
    {
      "cell_type": "markdown",
      "metadata": {
        "id": "8CYGcmGjFQ7c"
      },
      "source": [
        "#**1. Kiểm định ANOVA one way: Các bang ở các vùng khác nhau có xu hướng mua bảo hiểm khác nhau không**\n",
        "\n",
        "# ANOVA one way //Box Plot"
      ]
    },
    {
      "cell_type": "code",
      "execution_count": null,
      "metadata": {
        "colab": {
          "base_uri": "https://localhost:8080/"
        },
        "id": "3gw0NN4qj5TF",
        "outputId": "ca01e978-3305-4fa1-bf9a-b4aa3417a865"
      },
      "outputs": [
        {
          "output_type": "stream",
          "name": "stdout",
          "text": [
            "['West' 'South' 'Southeast' 'Northeast' 'Midwest']\n"
          ]
        }
      ],
      "source": [
        "#Các giá trị cảu biến region\n",
        "region = df[\"region\"].unique()\n",
        "print(region)"
      ]
    },
    {
      "cell_type": "code",
      "execution_count": null,
      "metadata": {
        "id": "LihNtTxZoxf2"
      },
      "outputs": [],
      "source": [
        "#Tạo dataframe chứa dữ liệu 2 cột\n",
        "df1 = df[[\"region\", \"insur_renewals\"]]\n",
        "df2 = df1.pivot(columns = \"region\", values = \"insur_renewals\" )\n",
        "new_order = ['West', 'South' ,'Southeast', 'Northeast' ,'Midwest']\n",
        "df2 = df2[new_order]"
      ]
    },
    {
      "cell_type": "code",
      "source": [
        "plt.figure(figsize = (6, 6))\n",
        "plt.title('Biểu đồ so sánh trung bình lần làm mới bảo hiểm các nhóm')\n",
        "sns.barplot(x = df1[\"region\"], y = df1[\"insur_renewals\"])\n",
        "plt.show()"
      ],
      "metadata": {
        "colab": {
          "base_uri": "https://localhost:8080/",
          "height": 575
        },
        "id": "dDJZA_5BKdgQ",
        "outputId": "ec92cc42-8925-4425-ca43-fb2f4d48d353"
      },
      "execution_count": null,
      "outputs": [
        {
          "output_type": "display_data",
          "data": {
            "text/plain": [
              "<Figure size 600x600 with 1 Axes>"
            ],
            "image/png": "[encoded data removed]"
          },
          "metadata": {}
        }
      ]
    },
    {
      "cell_type": "code",
      "execution_count": null,
      "metadata": {
        "colab": {
          "base_uri": "https://localhost:8080/",
          "height": 482
        },
        "id": "AOjjW5sao1Mq",
        "outputId": "eeaf4d62-c3aa-42d2-ade3-6c13d0cbad45"
      },
      "outputs": [
        {
          "output_type": "display_data",
          "data": {
            "text/plain": [
              "<Figure size 640x480 with 1 Axes>"
            ],
            "image/png": "[encoded data removed]"
          },
          "metadata": {}
        }
      ],
      "source": [
        "#Box plot thể hiện phân bố và phương sai của từng bang\n",
        "plt.title(\"Phân bố và phương sai của từng khu vực\")\n",
        "sns.boxplot( data = df2)\n",
        "plt.show()"
      ]
    },
    {
      "cell_type": "code",
      "source": [
        "#Mức ý nghĩa alpha = 0.05\n",
        "alpha = 0.05\n",
        "\n",
        "#Tách các khu vực thành các cột dữ liệu\n",
        "West = df2[\"West\"].dropna()\n",
        "Midwest = df2[\"Midwest\"].dropna()\n",
        "Northeast = df2[\"Northeast\"].dropna()\n",
        "South =df2[\"South\"].dropna()\n",
        "Southeast = df2[\"Southeast\"].dropna()\n",
        "\n",
        "#Kiểm định ANOVA\n",
        "f, p = stats.f_oneway(West, Midwest, Northeast, South, Southeast)\n",
        "if (p < alpha):\n",
        "    print(f'* Trị số p = {p:.4f} < {alpha:.4f} cho nên bác bỏ H0 ==> có sự khác biệt giữa các khu vực ')\n",
        "else:\n",
        "    print(f'* Trị số p = {p:.4f} >= {alpha:.4f} cho nên KHÔNG bác bỏ H0 ==> KHÔNG có sự khác biệt giữa các khu vực')\n"
      ],
      "metadata": {
        "colab": {
          "base_uri": "https://localhost:8080/"
        },
        "id": "A1d-PGxZ4Riq",
        "outputId": "8707ded9-09b7-46a7-b467-7ac9165d4db7"
      },
      "execution_count": null,
      "outputs": [
        {
          "output_type": "stream",
          "name": "stdout",
          "text": [
            "* Trị số p = 0.0097 < 0.0500 cho nên bác bỏ H0 ==> có sự khác biệt giữa các khu vực \n"
          ]
        }
      ]
    },
    {
      "cell_type": "code",
      "source": [
        "df2.describe()"
      ],
      "metadata": {
        "colab": {
          "base_uri": "https://localhost:8080/",
          "height": 300
        },
        "id": "qi8WFefZWcCK",
        "outputId": "3b4fc435-ca13-4612-e7c8-76174d916af8"
      },
      "execution_count": null,
      "outputs": [
        {
          "output_type": "execute_result",
          "data": {
            "text/plain": [
              "region     Midwest   Northeast       South   Southeast        West\n",
              "count   130.000000  184.000000  262.000000  232.000000  505.000000\n",
              "mean     23.276923   25.978261   24.080153   21.577586   23.091089\n",
              "std      12.259478   13.011116   12.490505   12.800603   12.752669\n",
              "min       3.000000    3.000000    3.000000    3.000000    2.000000\n",
              "25%      11.500000   14.000000   13.250000    9.000000   11.000000\n",
              "50%      25.000000   26.000000   24.000000   20.000000   23.000000\n",
              "75%      32.000000   37.000000   35.000000   34.000000   35.000000\n",
              "max      50.000000   51.000000   51.000000   50.000000   51.000000"
            ],
            "text/html": [
              "\n",
              "  <div id=\"df-0bc545e8-ab6d-4670-aecd-56eccdceb694\" class=\"colab-df-container\">\n",
              "    <div>\n",
              "<style scoped>\n",
              "    .dataframe tbody tr th:only-of-type {\n",
              "        vertical-align: middle;\n",
              "    }\n",
              "\n",
              "    .dataframe tbody tr th {\n",
              "        vertical-align: top;\n",
              "    }\n",
              "\n",
              "    .dataframe thead th {\n",
              "        text-align: right;\n",
              "    }\n",
              "</style>\n",
              "<table border=\"1\" class=\"dataframe\">\n",
              "  <thead>\n",
              "    <tr style=\"text-align: right;\">\n",
              "      <th>region</th>\n",
              "      <th>Midwest</th>\n",
              "      <th>Northeast</th>\n",
              "      <th>South</th>\n",
              "      <th>Southeast</th>\n",
              "      <th>West</th>\n",
              "    </tr>\n",
              "  </thead>\n",
              "  <tbody>\n",
              "    <tr>\n",
              "      <th>count</th>\n",
              "      <td>130.000000</td>\n",
              "      <td>184.000000</td>\n",
              "      <td>262.000000</td>\n",
              "      <td>232.000000</td>\n",
              "      <td>505.000000</td>\n",
              "    </tr>\n",
              "    <tr>\n",
              "      <th>mean</th>\n",
              "      <td>23.276923</td>\n",
              "      <td>25.978261</td>\n",
              "      <td>24.080153</td>\n",
              "      <td>21.577586</td>\n",
              "      <td>23.091089</td>\n",
              "    </tr>\n",
              "    <tr>\n",
              "      <th>std</th>\n",
              "      <td>12.259478</td>\n",
              "      <td>13.011116</td>\n",
              "      <td>12.490505</td>\n",
              "      <td>12.800603</td>\n",
              "      <td>12.752669</td>\n",
              "    </tr>\n",
              "    <tr>\n",
              "      <th>min</th>\n",
              "      <td>3.000000</td>\n",
              "      <td>3.000000</td>\n",
              "      <td>3.000000</td>\n",
              "      <td>3.000000</td>\n",
              "      <td>2.000000</td>\n",
              "    </tr>\n",
              "    <tr>\n",
              "      <th>25%</th>\n",
              "      <td>11.500000</td>\n",
              "      <td>14.000000</td>\n",
              "      <td>13.250000</td>\n",
              "      <td>9.000000</td>\n",
              "      <td>11.000000</td>\n",
              "    </tr>\n",
              "    <tr>\n",
              "      <th>50%</th>\n",
              "      <td>25.000000</td>\n",
              "      <td>26.000000</td>\n",
              "      <td>24.000000</td>\n",
              "      <td>20.000000</td>\n",
              "      <td>23.000000</td>\n",
              "    </tr>\n",
              "    <tr>\n",
              "      <th>75%</th>\n",
              "      <td>32.000000</td>\n",
              "      <td>37.000000</td>\n",
              "      <td>35.000000</td>\n",
              "      <td>34.000000</td>\n",
              "      <td>35.000000</td>\n",
              "    </tr>\n",
              "    <tr>\n",
              "      <th>max</th>\n",
              "      <td>50.000000</td>\n",
              "      <td>51.000000</td>\n",
              "      <td>51.000000</td>\n",
              "      <td>50.000000</td>\n",
              "      <td>51.000000</td>\n",
              "    </tr>\n",
              "  </tbody>\n",
              "</table>\n",
              "</div>\n",
              "    <div class=\"colab-df-buttons\">\n",
              "\n",
              "  <div class=\"colab-df-container\">\n",
              "    <button class=\"colab-df-convert\" onclick=\"convertToInteractive('df-0bc545e8-ab6d-4670-aecd-56eccdceb694')\"\n",
              "            title=\"Convert this dataframe to an interactive table.\"\n",
              "            style=\"display:none;\">\n",
              "\n",
              "  <svg xmlns=\"http://www.w3.org/2000/svg\" height=\"24px\" viewBox=\"0 -960 960 960\">\n",
              "    <path d=\"M120-120v-720h720v720H120Zm60-500h600v-160H180v160Zm220 220h160v-160H400v160Zm0 220h160v-160H400v160ZM180-400h160v-160H180v160Zm440 0h160v-160H620v160ZM180-180h160v-160H180v160Zm440 0h160v-160H620v160Z\"/>\n",
              "  </svg>\n",
              "    </button>\n",
              "\n",
              "  <style>\n",
              "    .colab-df-container {\n",
              "      display:flex;\n",
              "      gap: 12px;\n",
              "    }\n",
              "\n",
              "    .colab-df-convert {\n",
              "      background-color: #E8F0FE;\n",
              "      border: none;\n",
              "      border-radius: 50%;\n",
              "      cursor: pointer;\n",
              "      display: none;\n",
              "      fill: #1967D2;\n",
              "      height: 32px;\n",
              "      padding: 0 0 0 0;\n",
              "      width: 32px;\n",
              "    }\n",
              "\n",
              "    .colab-df-convert:hover {\n",
              "      background-color: #E2EBFA;\n",
              "      box-shadow: 0px 1px 2px rgba(60, 64, 67, 0.3), 0px 1px 3px 1px rgba(60, 64, 67, 0.15);\n",
              "      fill: #174EA6;\n",
              "    }\n",
              "\n",
              "    .colab-df-buttons div {\n",
              "      margin-bottom: 4px;\n",
              "    }\n",
              "\n",
              "    [theme=dark] .colab-df-convert {\n",
              "      background-color: #3B4455;\n",
              "      fill: #D2E3FC;\n",
              "    }\n",
              "\n",
              "    [theme=dark] .colab-df-convert:hover {\n",
              "      background-color: #434B5C;\n",
              "      box-shadow: 0px 1px 3px 1px rgba(0, 0, 0, 0.15);\n",
              "      filter: drop-shadow(0px 1px 2px rgba(0, 0, 0, 0.3));\n",
              "      fill: #FFFFFF;\n",
              "    }\n",
              "  </style>\n",
              "\n",
              "    <script>\n",
              "      const buttonEl =\n",
              "        document.querySelector('#df-0bc545e8-ab6d-4670-aecd-56eccdceb694 button.colab-df-convert');\n",
              "      buttonEl.style.display =\n",
              "        google.colab.kernel.accessAllowed ? 'block' : 'none';\n",
              "\n",
              "      async function convertToInteractive(key) {\n",
              "        const element = document.querySelector('#df-0bc545e8-ab6d-4670-aecd-56eccdceb694');\n",
              "        const dataTable =\n",
              "          await google.colab.kernel.invokeFunction('convertToInteractive',\n",
              "                                                    [key], {});\n",
              "        if (!dataTable) return;\n",
              "\n",
              "        const docLinkHtml = 'Like what you see? Visit the ' +\n",
              "          '<a target=\"_blank\" href=https://colab.research.google.com/notebooks/data_table.ipynb>data table notebook</a>'\n",
              "          + ' to learn more about interactive tables.';\n",
              "        element.innerHTML = '';\n",
              "        dataTable['output_type'] = 'display_data';\n",
              "        await google.colab.output.renderOutput(dataTable, element);\n",
              "        const docLink = document.createElement('div');\n",
              "        docLink.innerHTML = docLinkHtml;\n",
              "        element.appendChild(docLink);\n",
              "      }\n",
              "    </script>\n",
              "  </div>\n",
              "\n",
              "\n",
              "<div id=\"df-c312cff7-25a0-4347-9493-6d21e0ab8056\">\n",
              "  <button class=\"colab-df-quickchart\" onclick=\"quickchart('df-c312cff7-25a0-4347-9493-6d21e0ab8056')\"\n",
              "            title=\"Suggest charts\"\n",
              "            style=\"display:none;\">\n",
              "\n",
              "<svg xmlns=\"http://www.w3.org/2000/svg\" height=\"24px\"viewBox=\"0 0 24 24\"\n",
              "     width=\"24px\">\n",
              "    <g>\n",
              "        <path d=\"M19 3H5c-1.1 0-2 .9-2 2v14c0 1.1.9 2 2 2h14c1.1 0 2-.9 2-2V5c0-1.1-.9-2-2-2zM9 17H7v-7h2v7zm4 0h-2V7h2v10zm4 0h-2v-4h2v4z\"/>\n",
              "    </g>\n",
              "</svg>\n",
              "  </button>\n",
              "\n",
              "<style>\n",
              "  .colab-df-quickchart {\n",
              "      --bg-color: #E8F0FE;\n",
              "      --fill-color: #1967D2;\n",
              "      --hover-bg-color: #E2EBFA;\n",
              "      --hover-fill-color: #174EA6;\n",
              "      --disabled-fill-color: #AAA;\n",
              "      --disabled-bg-color: #DDD;\n",
              "  }\n",
              "\n",
              "  [theme=dark] .colab-df-quickchart {\n",
              "      --bg-color: #3B4455;\n",
              "      --fill-color: #D2E3FC;\n",
              "      --hover-bg-color: #434B5C;\n",
              "      --hover-fill-color: #FFFFFF;\n",
              "      --disabled-bg-color: #3B4455;\n",
              "      --disabled-fill-color: #666;\n",
              "  }\n",
              "\n",
              "  .colab-df-quickchart {\n",
              "    background-color: var(--bg-color);\n",
              "    border: none;\n",
              "    border-radius: 50%;\n",
              "    cursor: pointer;\n",
              "    display: none;\n",
              "    fill: var(--fill-color);\n",
              "    height: 32px;\n",
              "    padding: 0;\n",
              "    width: 32px;\n",
              "  }\n",
              "\n",
              "  .colab-df-quickchart:hover {\n",
              "    background-color: var(--hover-bg-color);\n",
              "    box-shadow: 0 1px 2px rgba(60, 64, 67, 0.3), 0 1px 3px 1px rgba(60, 64, 67, 0.15);\n",
              "    fill: var(--button-hover-fill-color);\n",
              "  }\n",
              "\n",
              "  .colab-df-quickchart-complete:disabled,\n",
              "  .colab-df-quickchart-complete:disabled:hover {\n",
              "    background-color: var(--disabled-bg-color);\n",
              "    fill: var(--disabled-fill-color);\n",
              "    box-shadow: none;\n",
              "  }\n",
              "\n",
              "  .colab-df-spinner {\n",
              "    border: 2px solid var(--fill-color);\n",
              "    border-color: transparent;\n",
              "    border-bottom-color: var(--fill-color);\n",
              "    animation:\n",
              "      spin 1s steps(1) infinite;\n",
              "  }\n",
              "\n",
              "  @keyframes spin {\n",
              "    0% {\n",
              "      border-color: transparent;\n",
              "      border-bottom-color: var(--fill-color);\n",
              "      border-left-color: var(--fill-color);\n",
              "    }\n",
              "    20% {\n",
              "      border-color: transparent;\n",
              "      border-left-color: var(--fill-color);\n",
              "      border-top-color: var(--fill-color);\n",
              "    }\n",
              "    30% {\n",
              "      border-color: transparent;\n",
              "      border-left-color: var(--fill-color);\n",
              "      border-top-color: var(--fill-color);\n",
              "      border-right-color: var(--fill-color);\n",
              "    }\n",
              "    40% {\n",
              "      border-color: transparent;\n",
              "      border-right-color: var(--fill-color);\n",
              "      border-top-color: var(--fill-color);\n",
              "    }\n",
              "    60% {\n",
              "      border-color: transparent;\n",
              "      border-right-color: var(--fill-color);\n",
              "    }\n",
              "    80% {\n",
              "      border-color: transparent;\n",
              "      border-right-color: var(--fill-color);\n",
              "      border-bottom-color: var(--fill-color);\n",
              "    }\n",
              "    90% {\n",
              "      border-color: transparent;\n",
              "      border-bottom-color: var(--fill-color);\n",
              "    }\n",
              "  }\n",
              "</style>\n",
              "\n",
              "  <script>\n",
              "    async function quickchart(key) {\n",
              "      const quickchartButtonEl =\n",
              "        document.querySelector('#' + key + ' button');\n",
              "      quickchartButtonEl.disabled = true;  // To prevent multiple clicks.\n",
              "      quickchartButtonEl.classList.add('colab-df-spinner');\n",
              "      try {\n",
              "        const charts = await google.colab.kernel.invokeFunction(\n",
              "            'suggestCharts', [key], {});\n",
              "      } catch (error) {\n",
              "        console.error('Error during call to suggestCharts:', error);\n",
              "      }\n",
              "      quickchartButtonEl.classList.remove('colab-df-spinner');\n",
              "      quickchartButtonEl.classList.add('colab-df-quickchart-complete');\n",
              "    }\n",
              "    (() => {\n",
              "      let quickchartButtonEl =\n",
              "        document.querySelector('#df-c312cff7-25a0-4347-9493-6d21e0ab8056 button');\n",
              "      quickchartButtonEl.style.display =\n",
              "        google.colab.kernel.accessAllowed ? 'block' : 'none';\n",
              "    })();\n",
              "  </script>\n",
              "</div>\n",
              "    </div>\n",
              "  </div>\n"
            ]
          },
          "metadata": {},
          "execution_count": 7
        }
      ]
    },
    {
      "cell_type": "code",
      "source": [
        "#Bảng Anova\n",
        "model       = ols('insur_renewals ~ region', data = df1).fit()\n",
        "anova_table = sm.stats.anova_lm(model)\n",
        "\n",
        "anova_table"
      ],
      "metadata": {
        "colab": {
          "base_uri": "https://localhost:8080/",
          "height": 112
        },
        "id": "uebOsQGv6H1w",
        "outputId": "df73e09b-f8f2-4514-8cac-0d5d0e59f143"
      },
      "execution_count": null,
      "outputs": [
        {
          "output_type": "execute_result",
          "data": {
            "text/plain": [
              "              df         sum_sq     mean_sq         F    PR(>F)\n",
              "region       4.0    2162.461612  540.615403  3.352834  0.009673\n",
              "Residual  1308.0  210903.673956  161.241341       NaN       NaN"
            ],
            "text/html": [
              "\n",
              "  <div id=\"df-f13abc53-11a4-4eb2-8e3e-7d1f6b9056b5\" class=\"colab-df-container\">\n",
              "    <div>\n",
              "<style scoped>\n",
              "    .dataframe tbody tr th:only-of-type {\n",
              "        vertical-align: middle;\n",
              "    }\n",
              "\n",
              "    .dataframe tbody tr th {\n",
              "        vertical-align: top;\n",
              "    }\n",
              "\n",
              "    .dataframe thead th {\n",
              "        text-align: right;\n",
              "    }\n",
              "</style>\n",
              "<table border=\"1\" class=\"dataframe\">\n",
              "  <thead>\n",
              "    <tr style=\"text-align: right;\">\n",
              "      <th></th>\n",
              "      <th>df</th>\n",
              "      <th>sum_sq</th>\n",
              "      <th>mean_sq</th>\n",
              "      <th>F</th>\n",
              "      <th>PR(&gt;F)</th>\n",
              "    </tr>\n",
              "  </thead>\n",
              "  <tbody>\n",
              "    <tr>\n",
              "      <th>region</th>\n",
              "      <td>4.0</td>\n",
              "      <td>2162.461612</td>\n",
              "      <td>540.615403</td>\n",
              "      <td>3.352834</td>\n",
              "      <td>0.009673</td>\n",
              "    </tr>\n",
              "    <tr>\n",
              "      <th>Residual</th>\n",
              "      <td>1308.0</td>\n",
              "      <td>210903.673956</td>\n",
              "      <td>161.241341</td>\n",
              "      <td>NaN</td>\n",
              "      <td>NaN</td>\n",
              "    </tr>\n",
              "  </tbody>\n",
              "</table>\n",
              "</div>\n",
              "    <div class=\"colab-df-buttons\">\n",
              "\n",
              "  <div class=\"colab-df-container\">\n",
              "    <button class=\"colab-df-convert\" onclick=\"convertToInteractive('df-f13abc53-11a4-4eb2-8e3e-7d1f6b9056b5')\"\n",
              "            title=\"Convert this dataframe to an interactive table.\"\n",
              "            style=\"display:none;\">\n",
              "\n",
              "  <svg xmlns=\"http://www.w3.org/2000/svg\" height=\"24px\" viewBox=\"0 -960 960 960\">\n",
              "    <path d=\"M120-120v-720h720v720H120Zm60-500h600v-160H180v160Zm220 220h160v-160H400v160Zm0 220h160v-160H400v160ZM180-400h160v-160H180v160Zm440 0h160v-160H620v160ZM180-180h160v-160H180v160Zm440 0h160v-160H620v160Z\"/>\n",
              "  </svg>\n",
              "    </button>\n",
              "\n",
              "  <style>\n",
              "    .colab-df-container {\n",
              "      display:flex;\n",
              "      gap: 12px;\n",
              "    }\n",
              "\n",
              "    .colab-df-convert {\n",
              "      background-color: #E8F0FE;\n",
              "      border: none;\n",
              "      border-radius: 50%;\n",
              "      cursor: pointer;\n",
              "      display: none;\n",
              "      fill: #1967D2;\n",
              "      height: 32px;\n",
              "      padding: 0 0 0 0;\n",
              "      width: 32px;\n",
              "    }\n",
              "\n",
              "    .colab-df-convert:hover {\n",
              "      background-color: #E2EBFA;\n",
              "      box-shadow: 0px 1px 2px rgba(60, 64, 67, 0.3), 0px 1px 3px 1px rgba(60, 64, 67, 0.15);\n",
              "      fill: #174EA6;\n",
              "    }\n",
              "\n",
              "    .colab-df-buttons div {\n",
              "      margin-bottom: 4px;\n",
              "    }\n",
              "\n",
              "    [theme=dark] .colab-df-convert {\n",
              "      background-color: #3B4455;\n",
              "      fill: #D2E3FC;\n",
              "    }\n",
              "\n",
              "    [theme=dark] .colab-df-convert:hover {\n",
              "      background-color: #434B5C;\n",
              "      box-shadow: 0px 1px 3px 1px rgba(0, 0, 0, 0.15);\n",
              "      filter: drop-shadow(0px 1px 2px rgba(0, 0, 0, 0.3));\n",
              "      fill: #FFFFFF;\n",
              "    }\n",
              "  </style>\n",
              "\n",
              "    <script>\n",
              "      const buttonEl =\n",
              "        document.querySelector('#df-f13abc53-11a4-4eb2-8e3e-7d1f6b9056b5 button.colab-df-convert');\n",
              "      buttonEl.style.display =\n",
              "        google.colab.kernel.accessAllowed ? 'block' : 'none';\n",
              "\n",
              "      async function convertToInteractive(key) {\n",
              "        const element = document.querySelector('#df-f13abc53-11a4-4eb2-8e3e-7d1f6b9056b5');\n",
              "        const dataTable =\n",
              "          await google.colab.kernel.invokeFunction('convertToInteractive',\n",
              "                                                    [key], {});\n",
              "        if (!dataTable) return;\n",
              "\n",
              "        const docLinkHtml = 'Like what you see? Visit the ' +\n",
              "          '<a target=\"_blank\" href=https://colab.research.google.com/notebooks/data_table.ipynb>data table notebook</a>'\n",
              "          + ' to learn more about interactive tables.';\n",
              "        element.innerHTML = '';\n",
              "        dataTable['output_type'] = 'display_data';\n",
              "        await google.colab.output.renderOutput(dataTable, element);\n",
              "        const docLink = document.createElement('div');\n",
              "        docLink.innerHTML = docLinkHtml;\n",
              "        element.appendChild(docLink);\n",
              "      }\n",
              "    </script>\n",
              "  </div>\n",
              "\n",
              "\n",
              "<div id=\"df-8abf6050-f2b7-435f-88fa-31cf55ccdb19\">\n",
              "  <button class=\"colab-df-quickchart\" onclick=\"quickchart('df-8abf6050-f2b7-435f-88fa-31cf55ccdb19')\"\n",
              "            title=\"Suggest charts\"\n",
              "            style=\"display:none;\">\n",
              "\n",
              "<svg xmlns=\"http://www.w3.org/2000/svg\" height=\"24px\"viewBox=\"0 0 24 24\"\n",
              "     width=\"24px\">\n",
              "    <g>\n",
              "        <path d=\"M19 3H5c-1.1 0-2 .9-2 2v14c0 1.1.9 2 2 2h14c1.1 0 2-.9 2-2V5c0-1.1-.9-2-2-2zM9 17H7v-7h2v7zm4 0h-2V7h2v10zm4 0h-2v-4h2v4z\"/>\n",
              "    </g>\n",
              "</svg>\n",
              "  </button>\n",
              "\n",
              "<style>\n",
              "  .colab-df-quickchart {\n",
              "      --bg-color: #E8F0FE;\n",
              "      --fill-color: #1967D2;\n",
              "      --hover-bg-color: #E2EBFA;\n",
              "      --hover-fill-color: #174EA6;\n",
              "      --disabled-fill-color: #AAA;\n",
              "      --disabled-bg-color: #DDD;\n",
              "  }\n",
              "\n",
              "  [theme=dark] .colab-df-quickchart {\n",
              "      --bg-color: #3B4455;\n",
              "      --fill-color: #D2E3FC;\n",
              "      --hover-bg-color: #434B5C;\n",
              "      --hover-fill-color: #FFFFFF;\n",
              "      --disabled-bg-color: #3B4455;\n",
              "      --disabled-fill-color: #666;\n",
              "  }\n",
              "\n",
              "  .colab-df-quickchart {\n",
              "    background-color: var(--bg-color);\n",
              "    border: none;\n",
              "    border-radius: 50%;\n",
              "    cursor: pointer;\n",
              "    display: none;\n",
              "    fill: var(--fill-color);\n",
              "    height: 32px;\n",
              "    padding: 0;\n",
              "    width: 32px;\n",
              "  }\n",
              "\n",
              "  .colab-df-quickchart:hover {\n",
              "    background-color: var(--hover-bg-color);\n",
              "    box-shadow: 0 1px 2px rgba(60, 64, 67, 0.3), 0 1px 3px 1px rgba(60, 64, 67, 0.15);\n",
              "    fill: var(--button-hover-fill-color);\n",
              "  }\n",
              "\n",
              "  .colab-df-quickchart-complete:disabled,\n",
              "  .colab-df-quickchart-complete:disabled:hover {\n",
              "    background-color: var(--disabled-bg-color);\n",
              "    fill: var(--disabled-fill-color);\n",
              "    box-shadow: none;\n",
              "  }\n",
              "\n",
              "  .colab-df-spinner {\n",
              "    border: 2px solid var(--fill-color);\n",
              "    border-color: transparent;\n",
              "    border-bottom-color: var(--fill-color);\n",
              "    animation:\n",
              "      spin 1s steps(1) infinite;\n",
              "  }\n",
              "\n",
              "  @keyframes spin {\n",
              "    0% {\n",
              "      border-color: transparent;\n",
              "      border-bottom-color: var(--fill-color);\n",
              "      border-left-color: var(--fill-color);\n",
              "    }\n",
              "    20% {\n",
              "      border-color: transparent;\n",
              "      border-left-color: var(--fill-color);\n",
              "      border-top-color: var(--fill-color);\n",
              "    }\n",
              "    30% {\n",
              "      border-color: transparent;\n",
              "      border-left-color: var(--fill-color);\n",
              "      border-top-color: var(--fill-color);\n",
              "      border-right-color: var(--fill-color);\n",
              "    }\n",
              "    40% {\n",
              "      border-color: transparent;\n",
              "      border-right-color: var(--fill-color);\n",
              "      border-top-color: var(--fill-color);\n",
              "    }\n",
              "    60% {\n",
              "      border-color: transparent;\n",
              "      border-right-color: var(--fill-color);\n",
              "    }\n",
              "    80% {\n",
              "      border-color: transparent;\n",
              "      border-right-color: var(--fill-color);\n",
              "      border-bottom-color: var(--fill-color);\n",
              "    }\n",
              "    90% {\n",
              "      border-color: transparent;\n",
              "      border-bottom-color: var(--fill-color);\n",
              "    }\n",
              "  }\n",
              "</style>\n",
              "\n",
              "  <script>\n",
              "    async function quickchart(key) {\n",
              "      const quickchartButtonEl =\n",
              "        document.querySelector('#' + key + ' button');\n",
              "      quickchartButtonEl.disabled = true;  // To prevent multiple clicks.\n",
              "      quickchartButtonEl.classList.add('colab-df-spinner');\n",
              "      try {\n",
              "        const charts = await google.colab.kernel.invokeFunction(\n",
              "            'suggestCharts', [key], {});\n",
              "      } catch (error) {\n",
              "        console.error('Error during call to suggestCharts:', error);\n",
              "      }\n",
              "      quickchartButtonEl.classList.remove('colab-df-spinner');\n",
              "      quickchartButtonEl.classList.add('colab-df-quickchart-complete');\n",
              "    }\n",
              "    (() => {\n",
              "      let quickchartButtonEl =\n",
              "        document.querySelector('#df-8abf6050-f2b7-435f-88fa-31cf55ccdb19 button');\n",
              "      quickchartButtonEl.style.display =\n",
              "        google.colab.kernel.accessAllowed ? 'block' : 'none';\n",
              "    })();\n",
              "  </script>\n",
              "</div>\n",
              "    </div>\n",
              "  </div>\n"
            ]
          },
          "metadata": {},
          "execution_count": 9
        }
      ]
    },
    {
      "cell_type": "markdown",
      "source": [
        "\n",
        "# **2. Kiểm định giả thuyết: Chỉ số sức khỏe BMI không làm ảnh hưởng đến quyết định làm mới bảo hiểm của khách hàng**\n",
        "# Z_test // Distribution plot"
      ],
      "metadata": {
        "id": "LiQl7INBQAB5"
      }
    },
    {
      "cell_type": "code",
      "source": [
        "df_stand = df.loc[ (18.5 < df[\"bmi\"]) & (df[\"bmi\"] < 24.9)]\n",
        "df_nstand = df.loc[(18.5 >= df[\"bmi\"]) | (df[\"bmi\"] >= 24.9)]\n",
        "\n",
        "bmi_stand = df_stand[\"insur_renewals\"]\n",
        "bmi_nstand = df_nstand[\"insur_renewals\"]\n"
      ],
      "metadata": {
        "id": "BsSLsslJ7-4A"
      },
      "execution_count": null,
      "outputs": []
    },
    {
      "cell_type": "code",
      "source": [
        "print(f'Độ lệch chuẩn của tập chỉ số sức khỏe bình thường: {bmi_stand.std():.4f}')\n",
        "print(f'Độ lệch chuẩn của tập chỉ số sức khỏe dưới và quá tiêu chuẩn: {bmi_nstand.std():.4f}')\n",
        "print(f'Độ chênh lệch của std: {abs(bmi_stand.std()-bmi_nstand.std()):4f}' )"
      ],
      "metadata": {
        "colab": {
          "base_uri": "https://localhost:8080/"
        },
        "id": "GiivIaQunlI4",
        "outputId": "592a3b0e-6513-4e80-822c-4c3f0f132770"
      },
      "execution_count": null,
      "outputs": [
        {
          "output_type": "stream",
          "name": "stdout",
          "text": [
            "Độ lệch chuẩn của tập chỉ số sức khỏe bình thường:Z 12.8949\n",
            "Độ lệch chuẩn của tập chỉ số sức khỏe dưới và quá tiêu chuẩn: 12.0846\n",
            "Độ chênh lệch của std: 0.810308\n"
          ]
        }
      ]
    },
    {
      "cell_type": "code",
      "source": [
        "bar_plot = {'bmi_stand' : bmi_stand.std(ddof = 1 ), 'bmi_nstand': bmi_nstand.std(ddof = 1)}\n",
        "courses = list(bar_plot.keys())\n",
        "values = list(bar_plot.values())\n",
        "\n",
        "fig = plt.figure(figsize = (5, 5))\n",
        "\n",
        "\n",
        "plt.bar(courses, values, color ='green',  width = 0.3)\n",
        "\n",
        "plt.xlabel(\"Nhóm\")\n",
        "plt.ylabel(\"Độ lệch chuẩn\")\n",
        "plt.title(\"Biểu đồ Bar plot độ lệch chuẩn 2 nhóm\")\n",
        "plt.show()"
      ],
      "metadata": {
        "colab": {
          "base_uri": "https://localhost:8080/",
          "height": 499
        },
        "id": "8xAUxK6iDOez",
        "outputId": "423ac515-39c7-4608-cbec-fd14f1b956fc"
      },
      "execution_count": null,
      "outputs": [
        {
          "output_type": "display_data",
          "data": {
            "text/plain": [
              "<Figure size 500x500 with 1 Axes>"
            ],
            "image/png": "[encoded data removed]"
          },
          "metadata": {}
        }
      ]
    },
    {
      "cell_type": "code",
      "source": [
        "print(f'Số quan sát của mẫu bmi chuẩn: {bmi_stand.shape[0]}// Giá trị trung bình: {bmi_stand.mean():.4f} ')\n",
        "print(f'So quan sát của mẫu bmi không chuẩn: {bmi_nstand.shape[0]}// Giá trị trung bình: {bmi_nstand.mean():.4f} ')"
      ],
      "metadata": {
        "colab": {
          "base_uri": "https://localhost:8080/"
        },
        "id": "LmUj9ZWfcp5i",
        "outputId": "7216882c-cd25-4fb8-fa27-4577d7b55d01"
      },
      "execution_count": null,
      "outputs": [
        {
          "output_type": "stream",
          "name": "stdout",
          "text": [
            "Số quan sát của mẫu bmi chuẩn: 349// Giá trị trung bình: 17.9083 \n",
            "So quan sát của mẫu bmi không chuẩn: 964// Giá trị trung bình: 25.4481 \n"
          ]
        }
      ]
    },
    {
      "cell_type": "code",
      "source": [
        "bar_plot = {'bmi_stand' : bmi_stand.mean(), 'bmi_nstand': bmi_nstand.mean()}\n",
        "fig = plt.figure(figsize = (5, 5))\n",
        "plt.bar(courses, values, color ='maroon',  width = 0.3)\n",
        "courses = list(bar_plot.keys())\n",
        "values = list(bar_plot.values())\n",
        "plt.xlabel(\"Nhóm\")\n",
        "plt.ylabel(\"Lần làm mới bảo hiểm\")\n",
        "plt.title(\"Biểu đồ Bar plot giá trị trung bình tiền lần làm mới bảo hiểm 2 nhóm\")\n",
        "plt.show()"
      ],
      "metadata": {
        "colab": {
          "base_uri": "https://localhost:8080/",
          "height": 499
        },
        "id": "bOcWSpOdB9jq",
        "outputId": "f918c3f4-f59e-46aa-bb3b-550715e22070"
      },
      "execution_count": null,
      "outputs": [
        {
          "output_type": "display_data",
          "data": {
            "text/plain": [
              "<Figure size 500x500 with 1 Axes>"
            ],
            "image/png": "[encoded data removed]"
          },
          "metadata": {}
        }
      ]
    },
    {
      "cell_type": "code",
      "source": [
        "sns.set(style=\"whitegrid\")\n",
        "plt.figure(figsize=(5, 4))\n",
        "\n",
        "plt.hist(bmi_stand, density = True, histtype = 'step', color = 'blue')\n",
        "plt.hist(bmi_nstand,  density = True, histtype = 'step', color = 'green')\n",
        "\n",
        "\n",
        "plt.xlabel('Số lần làm mới bảo hiểm')\n",
        "plt.ylabel('Density')\n",
        "plt.title('Biểu đồ phân phối xác xuất của 2 biến')\n",
        "\n",
        "plt.gca().legend(('bmi_stand','bmi_nstand'))\n",
        "\n",
        "plt.show()\n"
      ],
      "metadata": {
        "colab": {
          "base_uri": "https://localhost:8080/",
          "height": 421
        },
        "id": "2iE1GT8ObcQ-",
        "outputId": "ef6816a5-0345-49c3-f22f-838b94dbac55"
      },
      "execution_count": null,
      "outputs": [
        {
          "output_type": "display_data",
          "data": {
            "text/plain": [
              "<Figure size 500x400 with 1 Axes>"
            ],
            "image/png": "[encoded data removed]"
          },
          "metadata": {}
        }
      ]
    },
    {
      "cell_type": "code",
      "source": [
        "alpha = 0.05\n",
        "T1, p1 = ztest(bmi_stand, value = bmi_nstand.mean())"
      ],
      "metadata": {
        "id": "Nu68XuTaZ6dj"
      },
      "execution_count": null,
      "outputs": []
    },
    {
      "cell_type": "code",
      "source": [
        "if (p1 < alpha):\n",
        "    print(f'Trị số p = {p1:} < {alpha:.4f} bác bỏ H0 ==> Chỉ số bmi có ảnh hưởng đến quyết định làm mới bảo hiểm')\n",
        "else:\n",
        "    print(f'Trị số p = {p1:} >= {alpha:.4f} KHÔNG bác bỏ H0 => Chỉ số bmi không ảnh hưởng đến quyết định làm mới bảo hiểm ')"
      ],
      "metadata": {
        "colab": {
          "base_uri": "https://localhost:8080/"
        },
        "id": "CNc2Lra0ajIv",
        "outputId": "1e50ca14-6bb8-48c7-c939-80268cc94929"
      },
      "execution_count": null,
      "outputs": [
        {
          "output_type": "stream",
          "name": "stdout",
          "text": [
            "Trị số p = 8.915994860989547e-28 < 0.0500 bác bỏ H0 ==> Chỉ số bmi có ảnh hưởng đến quyết định làm mới bảo hiểm\n"
          ]
        }
      ]
    },
    {
      "cell_type": "markdown",
      "source": [
        "# **3. Kiểm định giả thuyết: Người nghiện thuốc lá có khả năng làm mới bảo hiểm y tế nhiều hơn người không nghiện?**\n",
        "# T_test // Bar chart\n"
      ],
      "metadata": {
        "id": "Y3caq2Q_KN5g"
      }
    },
    {
      "cell_type": "code",
      "source": [
        "smoker = df.loc[df[\"smoker\"] ==1][\"charges\"]\n",
        "nsmoker = df.loc[df[\"smoker\"]==0][\"charges\"]"
      ],
      "metadata": {
        "id": "E3KbVJ7HLNWm"
      },
      "execution_count": null,
      "outputs": []
    },
    {
      "cell_type": "code",
      "source": [
        "print(f'Độ lệch chuẩn của tập người nghiện thuốc: {smoker.std(ddof = 1):.4f}')\n",
        "print(f'Độ lệch chuẩn của tập người không nghiện thuốc: {nsmoker.std(ddof =1):.4f}')\n",
        "print(f'Độ chênh lệch của std: {abs(smoker.std()-nsmoker.std()):4f}' )"
      ],
      "metadata": {
        "colab": {
          "base_uri": "https://localhost:8080/"
        },
        "outputId": "6f7c9fc4-5bea-405d-f3a4-1dd6ca5c242e",
        "id": "Rebh92fgce-k"
      },
      "execution_count": null,
      "outputs": [
        {
          "output_type": "stream",
          "name": "stdout",
          "text": [
            "Độ lệch chuẩn của tập người nghiện thuốc: 89175.3702\n",
            "Độ lệch chuẩn của tập người không nghiện thuốc: 92639.8198\n",
            "Độ chênh lệch của std: 3464.449557\n"
          ]
        }
      ]
    },
    {
      "cell_type": "code",
      "source": [
        "sns.set(style=\"whitegrid\")\n",
        "plt.figure(figsize=(5, 5))\n",
        "\n",
        "sns.distplot(smoker, kde = True, norm_hist = True, hist = False)\n",
        "sns.distplot(nsmoker, kde = True, norm_hist = True, hist = False)\n",
        "\n",
        "# Thêm nhãn và tên 2 trục\n",
        "plt.xlabel('Charges')\n",
        "plt.ylabel('Density')\n",
        "plt.title('Hàm phân phối xác xuất của 2 nhóm')\n",
        "\n",
        "#Thêm chứ thích\n",
        "plt.gca().legend(('smoker','nsmoker'))\n",
        "\n",
        "#Hiển thị đồ thị\n",
        "plt.show()"
      ],
      "metadata": {
        "colab": {
          "base_uri": "https://localhost:8080/",
          "height": 895
        },
        "outputId": "1dcbc49b-a9d5-460a-d37e-fccca0c2513f",
        "id": "YsR8FvFudDtv"
      },
      "execution_count": null,
      "outputs": [
        {
          "output_type": "stream",
          "name": "stderr",
          "text": [
            "<ipython-input-18-7aaf5af85470>:4: UserWarning: \n",
            "\n",
            "`distplot` is a deprecated function and will be removed in seaborn v0.14.0.\n",
            "\n",
            "Please adapt your code to use either `displot` (a figure-level function with\n",
            "similar flexibility) or `kdeplot` (an axes-level function for kernel density plots).\n",
            "\n",
            "For a guide to updating your code to use the new functions, please see\n",
            "https://gist.github.com/mwaskom/de44147ed2974457ad6372750bbe5751\n",
            "\n",
            "  sns.distplot(smoker, kde = True, norm_hist = True, hist = False)\n",
            "<ipython-input-18-7aaf5af85470>:5: UserWarning: \n",
            "\n",
            "`distplot` is a deprecated function and will be removed in seaborn v0.14.0.\n",
            "\n",
            "Please adapt your code to use either `displot` (a figure-level function with\n",
            "similar flexibility) or `kdeplot` (an axes-level function for kernel density plots).\n",
            "\n",
            "For a guide to updating your code to use the new functions, please see\n",
            "https://gist.github.com/mwaskom/de44147ed2974457ad6372750bbe5751\n",
            "\n",
            "  sns.distplot(nsmoker, kde = True, norm_hist = True, hist = False)\n"
          ]
        },
        {
          "output_type": "display_data",
          "data": {
            "text/plain": [
              "<Figure size 500x500 with 1 Axes>"
            ],
            "image/png": "[encoded data removed]"
          },
          "metadata": {}
        }
      ]
    },
    {
      "cell_type": "code",
      "source": [
        "print(f'Số quan sát của mẫu người nghiện thuốc: {smoker.shape[0]}// Giá trị trung bình: {smoker.mean():.4f} ')\n",
        "print(f'Số quan sát của mẫu người không nghiện thuốc: {nsmoker.shape[0]}// Giá trị trung bình: {nsmoker.mean():.4f} ')"
      ],
      "metadata": {
        "colab": {
          "base_uri": "https://localhost:8080/"
        },
        "outputId": "8e87016d-6578-4018-c432-4ffb6051abea",
        "id": "CyqBLo0Ci4s-"
      },
      "execution_count": null,
      "outputs": [
        {
          "output_type": "stream",
          "name": "stdout",
          "text": [
            "Số quan sát của mẫu người nghiện thuốc: 360// Giá trị trung bình: 141753.0556 \n",
            "Số quan sát của mẫu người không nghiện thuốc: 953// Giá trị trung bình: 168799.7817 \n"
          ]
        }
      ]
    },
    {
      "cell_type": "code",
      "source": [
        "bar_plot = {'smoker' : smoker.mean(), 'nsmoker': nsmoker.mean()}\n",
        "courses = list(bar_plot.keys())\n",
        "values = list(bar_plot.values())\n",
        "\n",
        "fig = plt.figure(figsize = (5, 5))\n",
        "\n",
        "\n",
        "plt.bar(courses, values, color ='maroon',  width = 0.3)\n",
        "\n",
        "plt.xlabel(\"Nhóm\")\n",
        "plt.ylabel(\"Chi phí\")\n",
        "plt.title(\"Biểu đồ Bar plot giá trị trung bình tiền chi cho bảo hiểm 2 nhóm\")\n",
        "plt.show()\n"
      ],
      "metadata": {
        "colab": {
          "base_uri": "https://localhost:8080/",
          "height": 498
        },
        "id": "DjEx4Qw8L8Z7",
        "outputId": "e5d4f76e-4aa3-4cfc-c226-3d5dfc3ee52b"
      },
      "execution_count": null,
      "outputs": [
        {
          "output_type": "display_data",
          "data": {
            "text/plain": [
              "<Figure size 500x500 with 1 Axes>"
            ],
            "image/png": "[encoded data removed]"
          },
          "metadata": {}
        }
      ]
    },
    {
      "cell_type": "code",
      "source": [
        "bar_plot = {'smoker' : smoker.std(ddof = 1 ), 'nsmoker': nsmoker.std(ddof = 1)}\n",
        "courses = list(bar_plot.keys())\n",
        "values = list(bar_plot.values())\n",
        "\n",
        "fig = plt.figure(figsize = (5, 5))\n",
        "\n",
        "\n",
        "plt.bar(courses, values, color ='green',  width = 0.3)\n",
        "\n",
        "plt.xlabel(\"Nhóm\")\n",
        "plt.ylabel(\"Độ lệch chuẩn\")\n",
        "plt.title(\"Biểu đồ Bar plot độ lệch chuẩn 2 nhóm\")\n",
        "plt.show()"
      ],
      "metadata": {
        "colab": {
          "base_uri": "https://localhost:8080/",
          "height": 498
        },
        "id": "eYOsopTwesIe",
        "outputId": "146058b9-8ce7-4a0d-9057-ccef7133e7d7"
      },
      "execution_count": null,
      "outputs": [
        {
          "output_type": "display_data",
          "data": {
            "text/plain": [
              "<Figure size 500x500 with 1 Axes>"
            ],
            "image/png": "[encoded data removed]"
          },
          "metadata": {}
        }
      ]
    },
    {
      "cell_type": "code",
      "source": [
        "alpha = 0.05\n",
        "T2, p2 = ztest(smoker, value = nsmoker.mean(), alternative = \"larger\")"
      ],
      "metadata": {
        "id": "BU43oOBZSiey"
      },
      "execution_count": null,
      "outputs": []
    },
    {
      "cell_type": "code",
      "source": [
        "ztest(smoker, value = nsmoker.mean(), alternative = \"larger\")"
      ],
      "metadata": {
        "colab": {
          "base_uri": "https://localhost:8080/"
        },
        "id": "dsZxTp1ASq6n",
        "outputId": "0bf01610-748a-4db2-d712-ed5c287e1c7b"
      },
      "execution_count": null,
      "outputs": [
        {
          "output_type": "execute_result",
          "data": {
            "text/plain": [
              "(-5.75467807776055, 0.9999999956596471)"
            ]
          },
          "metadata": {},
          "execution_count": 60
        }
      ]
    },
    {
      "cell_type": "code",
      "source": [
        "if (p2 < alpha):\n",
        "    print(f'Trị số p = {p2:} < {alpha:.4f} bác bỏ H0 ==> Người nghiện co xu hướnng chi nhiều hơn cho bảo hiểm y tế')\n",
        "else:\n",
        "    print(f'Trị số p = {p2:} >= {alpha:.4f} KHÔNG bác bỏ H0 ==> Người nghiện có xu hướng chi ít hơn cho bảo hiểm y tế')"
      ],
      "metadata": {
        "colab": {
          "base_uri": "https://localhost:8080/"
        },
        "outputId": "a07aa8ba-c9c4-4b59-d0df-0eca231fa528",
        "id": "HeL4kLoaTZNy"
      },
      "execution_count": null,
      "outputs": [
        {
          "output_type": "stream",
          "name": "stdout",
          "text": [
            "Trị số p = 0.9999999956596471 >= 0.0500 KHÔNG bác bỏ H0 ==> Người nghiện có xu hướng chi ít hơn cho bảo hiểm y tế\n"
          ]
        }
      ]
    },
    {
      "cell_type": "markdown",
      "source": [
        "# **4. Kiểm định giả thuyết: Yếu tố gia đình có làm ảnh hưởng đến việc chi trả bảo hiểm**"
      ],
      "metadata": {
        "id": "g9U9VpJ2VfC5"
      }
    },
    {
      "cell_type": "code",
      "source": [
        "married = df.loc[df[\"married\"] ==1][\"charges\"]\n",
        "nmarried = df.loc[df[\"married\"] ==0][\"charges\"]"
      ],
      "metadata": {
        "id": "NYU9y6adtnSJ"
      },
      "execution_count": null,
      "outputs": []
    },
    {
      "cell_type": "code",
      "source": [
        "print(f'Độ lệch chuẩn của tập người có gia đình: {married.std(ddof = 1):.4f}')\n",
        "print(f'Độ lệch chuẩn của tập người không có gia đình: {nmarried.std(ddof =1):.4f}')\n",
        "print(f'Độ chênh lệch của std: {abs(married.std()-nmarried.std()):4f}' )"
      ],
      "metadata": {
        "colab": {
          "base_uri": "https://localhost:8080/"
        },
        "outputId": "3fae8fb7-a93e-4184-8188-19b53edffd3d",
        "id": "pnW3Z69zVKzN"
      },
      "execution_count": null,
      "outputs": [
        {
          "output_type": "stream",
          "name": "stdout",
          "text": [
            "Độ lệch chuẩn của tập người có gia đình: 88684.7536\n",
            "Độ lệch chuẩn của tập người không có gia đình: 37545.4187\n",
            "Độ chênh lệch của std: 51139.334894\n"
          ]
        }
      ]
    },
    {
      "cell_type": "code",
      "source": [
        "bar_plot = {'married' : married.std(ddof = 1 ), 'nmarried': nmarried.std(ddof = 1)}\n",
        "fig = plt.figure(figsize = (5, 5))\n",
        "courses = list(bar_plot.keys())\n",
        "values = list(bar_plot.values())\n",
        "plt.bar(courses, values, color ='green',  width = 0.3)\n",
        "plt.xlabel(\"Nhóm\")\n",
        "plt.ylabel(\"Độ lệch chuẩn\")\n",
        "plt.title(\"Biểu đồ Bar plot độ lệch chuẩn 2 nhóm\")\n",
        "plt.show()"
      ],
      "metadata": {
        "id": "3kIqI2VaVwa4"
      },
      "execution_count": null,
      "outputs": []
    },
    {
      "cell_type": "code",
      "source": [
        "print(f'Số quan sát của mẫu người có gia đình: {married.shape[0]}// Giá trị trung bình: {married.mean():.4f} ')\n",
        "print(f'Số quan sát của mẫu người không có gia đình: {nmarried.shape[0]}// Giá trị trung bình: {nmarried.mean():.4f} ')"
      ],
      "metadata": {
        "colab": {
          "base_uri": "https://localhost:8080/"
        },
        "outputId": "0c60025d-14de-47b3-b7d7-f1d15fd6dcc7",
        "id": "_Hff3z-zWQXy"
      },
      "execution_count": null,
      "outputs": [
        {
          "output_type": "stream",
          "name": "stdout",
          "text": [
            "Số quan sát của mẫu người có gia đình: 851// Giá trị trung bình: 201443.2021 \n",
            "Số quan sát của mẫu người không có gia đình: 462// Giá trị trung bình: 87595.5130 \n"
          ]
        }
      ]
    },
    {
      "cell_type": "code",
      "source": [
        "bar_plot = {'married' : married.mean(), 'nmarried': nmarried.mean()}\n",
        "fig = plt.figure(figsize = (5, 5))\n",
        "courses = list(bar_plot.keys())\n",
        "values = list(bar_plot.values())\n",
        "plt.bar(courses, values, color ='maroon',  width = 0.3)\n",
        "\n",
        "plt.xlabel(\"Nhóm\")\n",
        "plt.ylabel(\"Chi phí\")\n",
        "plt.title(\"Biểu đồ Bar plot giá trị trung bình tiền chi cho bảo hiểm 2 nhóm\")\n",
        "plt.show()\n"
      ],
      "metadata": {
        "id": "I8dmicwCWmLO"
      },
      "execution_count": null,
      "outputs": []
    },
    {
      "cell_type": "code",
      "source": [
        "alpha = 0.05\n",
        "T3, p3 = ztest(married, value = nmarried.mean())\n",
        "ztest(married, value = nmarried.mean())"
      ],
      "metadata": {
        "id": "ZUKY6v-WXlD5"
      },
      "execution_count": null,
      "outputs": []
    },
    {
      "cell_type": "code",
      "source": [
        "sns.set(style=\"whitegrid\")\n",
        "plt.figure(figsize=(5, 4))\n",
        "\n",
        "plt.hist(married, density = True, histtype = 'step', color = 'blue')\n",
        "plt.hist(nmarried,  density = True, histtype = 'step', color = 'green')\n",
        "\n",
        "\n",
        "plt.xlabel('Tổng số tiền chi cho bảo hiểm')\n",
        "plt.ylabel('Density')\n",
        "plt.title('Biểu đồ phân phối xác xuất của 2 biến')\n",
        "\n",
        "plt.gca().legend(('married','nmarried'))\n",
        "\n",
        "plt.show()\n"
      ],
      "metadata": {
        "id": "LqQRuCbrdTrP"
      },
      "execution_count": null,
      "outputs": []
    },
    {
      "cell_type": "code",
      "source": [
        "if (p3 < alpha):\n",
        "    print(f'Trị số p = {p3:} < {alpha:.4f} bác bỏ H0 ==> Yếu tố hôn nhân có ảnh hưởng đến quyết định làm mới bảo hiểm')\n",
        "else:\n",
        "    print(f'Trị số p = {p3:} >= {alpha:.4f} KHÔNG bác bỏ H0 => Yếu tố hôn nhân không ảnh hưởng đến quyết định làm mới bảo hiểm ')"
      ],
      "metadata": {
        "id": "e4OfckW2X7kY"
      },
      "execution_count": null,
      "outputs": []
    }
  ],
  "metadata": {
    "colab": {
      "provenance": []
    },
    "kernelspec": {
      "display_name": "Python 3",
      "name": "python3"
    },
    "language_info": {
      "name": "python"
    }
  },
  "nbformat": 4,
  "nbformat_minor": 0
}